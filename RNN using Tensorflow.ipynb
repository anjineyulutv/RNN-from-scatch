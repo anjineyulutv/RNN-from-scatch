{
 "cells": [
  {
   "cell_type": "code",
   "execution_count": 1,
   "metadata": {},
   "outputs": [
    {
     "name": "stderr",
     "output_type": "stream",
     "text": [
      "C:\\Users\\anjineyulu\\AppData\\Local\\Continuum\\anaconda3\\lib\\site-packages\\h5py\\__init__.py:36: FutureWarning: Conversion of the second argument of issubdtype from `float` to `np.floating` is deprecated. In future, it will be treated as `np.float64 == np.dtype(float).type`.\n",
      "  from ._conv import register_converters as _register_converters\n"
     ]
    }
   ],
   "source": [
    "import tensorflow as tf\n",
    "import numpy as np"
   ]
  },
  {
   "cell_type": "markdown",
   "metadata": {},
   "source": [
    "<h3>Basic RNNs in TensorFlow</h3>"
   ]
  },
  {
   "cell_type": "code",
   "execution_count": 2,
   "metadata": {},
   "outputs": [
    {
     "name": "stdout",
     "output_type": "stream",
     "text": [
      "WARNING:tensorflow:From C:\\Users\\anjineyulu\\AppData\\Local\\Continuum\\anaconda3\\lib\\site-packages\\tensorflow\\python\\framework\\op_def_library.py:263: colocate_with (from tensorflow.python.framework.ops) is deprecated and will be removed in a future version.\n",
      "Instructions for updating:\n",
      "Colocations handled automatically by placer.\n",
      "<tf.Variable 'Variable:0' shape=(3, 5) dtype=float32_ref>\n"
     ]
    }
   ],
   "source": [
    "n_inputs=3\n",
    "n_nuerons=5\n",
    "Wx=tf.Variable(tf.random_normal(shape=[n_inputs,n_nuerons],dtype=tf.float32))\n",
    "print(Wx)"
   ]
  },
  {
   "cell_type": "code",
   "execution_count": 3,
   "metadata": {},
   "outputs": [],
   "source": [
    "n_inputs=3\n",
    "n_neurons=5\n",
    "X0=tf.placeholder(tf.float32,[None,n_inputs])\n",
    "X1=tf.placeholder(tf.float32,[None,n_inputs])\n",
    "\n",
    "Wx=tf.Variable(tf.random_normal(shape=[n_inputs,n_nuerons],dtype=tf.float32))\n",
    "Wy=tf.Variable(tf.random_normal(shape=[n_nuerons,n_nuerons],dtype=tf.float32))\n",
    "b=tf.Variable(tf.zeros([1,n_neurons],dtype=tf.float32))\n",
    "\n",
    "Y0=tf.tanh(tf.matmul(X0,Wx)+b)\n",
    "Y1=tf.tanh(tf.matmul(Y0,Wy)+tf.matmul(X1,Wx)+b)\n",
    "\n",
    "init=tf.global_variables_initializer()"
   ]
  },
  {
   "cell_type": "code",
   "execution_count": 4,
   "metadata": {},
   "outputs": [],
   "source": [
    "X0_batch=np.array([[0,1,2],[3,4,5],[6,7,8],[9,0,1]])#t=0\n",
    "X1_batch=np.array([[9,8,7],[0,0,0],[6,5,4],[3,2,1]])#t=1\n",
    "\n",
    "with tf.Session() as sess:\n",
    "    init.run()\n",
    "    Y0_val,Y1_val=sess.run([Y0,Y1],feed_dict={X0:X0_batch,X1:X1_batch})"
   ]
  },
  {
   "cell_type": "code",
   "execution_count": 5,
   "metadata": {},
   "outputs": [
    {
     "data": {
      "text/plain": [
       "array([[ 0.7693296 ,  0.28638583,  0.4919593 ,  0.31841144, -0.5384732 ],\n",
       "       [-0.7994223 ,  0.91202575,  0.9925498 ,  0.9998219 , -0.91308904],\n",
       "       [-0.9967654 ,  0.9923967 ,  0.9999179 ,  0.99999994, -0.98633456],\n",
       "       [-1.        ,  0.23324803,  0.09651235,  1.        ,  0.99999386]],\n",
       "      dtype=float32)"
      ]
     },
     "execution_count": 5,
     "metadata": {},
     "output_type": "execute_result"
    }
   ],
   "source": [
    "Y0_val"
   ]
  },
  {
   "cell_type": "code",
   "execution_count": 6,
   "metadata": {},
   "outputs": [
    {
     "data": {
      "text/plain": [
       "array([[-0.9999989 ,  0.9996588 ,  0.99998134,  1.        , -0.9981369 ],\n",
       "       [ 0.5960885 , -0.9651393 ,  0.5717339 ,  0.21870673, -0.9764459 ],\n",
       "       [-0.99973136, -0.24565941,  0.9998588 ,  0.99999994, -0.99844056],\n",
       "       [-0.99955076,  0.5537412 ,  0.97444844,  0.99980825, -0.4208229 ]],\n",
       "      dtype=float32)"
      ]
     },
     "execution_count": 6,
     "metadata": {},
     "output_type": "execute_result"
    }
   ],
   "source": [
    "Y1_val"
   ]
  },
  {
   "cell_type": "markdown",
   "metadata": {},
   "source": [
    "<h3>Static Unrolling Through Time</h3>"
   ]
  },
  {
   "cell_type": "code",
   "execution_count": 7,
   "metadata": {},
   "outputs": [
    {
     "name": "stdout",
     "output_type": "stream",
     "text": [
      "\n",
      "WARNING: The TensorFlow contrib module will not be included in TensorFlow 2.0.\n",
      "For more information, please see:\n",
      "  * https://github.com/tensorflow/community/blob/master/rfcs/20180907-contrib-sunset.md\n",
      "  * https://github.com/tensorflow/addons\n",
      "If you depend on functionality not listed there, please file an issue.\n",
      "\n",
      "WARNING:tensorflow:From <ipython-input-7-085dd7167809>:4: BasicRNNCell.__init__ (from tensorflow.python.ops.rnn_cell_impl) is deprecated and will be removed in a future version.\n",
      "Instructions for updating:\n",
      "This class is equivalent as tf.keras.layers.SimpleRNNCell, and will be replaced by that in Tensorflow 2.0.\n",
      "WARNING:tensorflow:From <ipython-input-7-085dd7167809>:5: static_rnn (from tensorflow.python.ops.rnn) is deprecated and will be removed in a future version.\n",
      "Instructions for updating:\n",
      "Please use `keras.layers.RNN(cell, unroll=True)`, which is equivalent to this API\n"
     ]
    }
   ],
   "source": [
    "X0=tf.placeholder(tf.float32,[None,n_inputs])\n",
    "X1=tf.placeholder(tf.float32,[None,n_inputs])\n",
    "\n",
    "basic_cell=tf.contrib.rnn.BasicRNNCell(num_units=n_neurons)\n",
    "output_seqs,states=tf.contrib.rnn.static_rnn(basic_cell,[X0,X1],dtype=tf.float32)\n",
    "\n",
    "Y0,Y1=output_seqs"
   ]
  },
  {
   "cell_type": "code",
   "execution_count": 8,
   "metadata": {},
   "outputs": [
    {
     "data": {
      "text/plain": [
       "<tf.Tensor 'rnn/basic_rnn_cell/Tanh:0' shape=(?, 5) dtype=float32>"
      ]
     },
     "execution_count": 8,
     "metadata": {},
     "output_type": "execute_result"
    }
   ],
   "source": [
    "Y0"
   ]
  },
  {
   "cell_type": "code",
   "execution_count": 9,
   "metadata": {},
   "outputs": [
    {
     "data": {
      "text/plain": [
       "<tf.Tensor 'rnn/basic_rnn_cell/Tanh_1:0' shape=(?, 5) dtype=float32>"
      ]
     },
     "execution_count": 9,
     "metadata": {},
     "output_type": "execute_result"
    }
   ],
   "source": [
    "Y1"
   ]
  },
  {
   "cell_type": "markdown",
   "metadata": {},
   "source": [
    "<h3>If there were 50 time steps</h3>"
   ]
  },
  {
   "cell_type": "code",
   "execution_count": 25,
   "metadata": {},
   "outputs": [],
   "source": [
    "n_inputs=3\n",
    "n_neurons=5\n",
    "n_steps=2"
   ]
  },
  {
   "cell_type": "markdown",
   "metadata": {},
   "source": [
    "<h3>Reset it if it is running multiple times</h3>"
   ]
  },
  {
   "cell_type": "code",
   "execution_count": 32,
   "metadata": {},
   "outputs": [],
   "source": [
    "tf.reset_default_graph()"
   ]
  },
  {
   "cell_type": "code",
   "execution_count": 33,
   "metadata": {},
   "outputs": [],
   "source": [
    "X=tf.placeholder(tf.float32,[None,n_steps,n_inputs]) \n",
    "X_seqs=tf.unstack(tf.transpose(X,perm=[1,0,2])) \n",
    "basic_cell=tf.contrib.rnn.BasicRNNCell(num_units=n_neurons) \n",
    "output_seqs,states=tf.contrib.rnn.static_rnn(basic_cell,X_seqs,dtype=tf.float32) \n",
    "outputs=tf.transpose(tf.stack(output_seqs),perm=[1,0,2])"
   ]
  },
  {
   "cell_type": "code",
   "execution_count": 35,
   "metadata": {},
   "outputs": [],
   "source": [
    "import numpy as np\n",
    "X_batch=np.array([\n",
    "    [[0,1,2],[9,8,7]],\n",
    "    [[3,4,5],[0,0,0]],\n",
    "    [[6,7,8],[6,5,4]],\n",
    "    [[9,0,1],[3,2,1]],\n",
    "])\n",
    "with tf.Session() as sess:\n",
    "    tf.global_variables_initializer().run()\n",
    "    outputs_val=outputs.eval(feed_dict={X:X_batch})"
   ]
  },
  {
   "cell_type": "code",
   "execution_count": 36,
   "metadata": {},
   "outputs": [
    {
     "data": {
      "text/plain": [
       "array([[[-0.32869458, -0.7165902 , -0.6505767 ,  0.53372616,\n",
       "         -0.42741778],\n",
       "        [-0.98965615, -0.5109421 , -1.        , -0.9944926 ,\n",
       "         -0.9813475 ]],\n",
       "\n",
       "       [[-0.8466361 , -0.86943793, -0.9985504 , -0.34975556,\n",
       "         -0.90569335],\n",
       "        [-0.09223882, -0.68356955, -0.33488235,  0.4809497 ,\n",
       "         -0.26868585]],\n",
       "\n",
       "       [[-0.9730642 , -0.9426082 , -0.9999951 , -0.8681875 ,\n",
       "         -0.98786384],\n",
       "        [-0.8825169 , -0.7547716 , -0.99992216, -0.97268236,\n",
       "         -0.9777365 ]],\n",
       "\n",
       "       [[ 0.76904196,  0.9418641 , -0.9999747 , -0.9629151 ,\n",
       "         -0.9932602 ],\n",
       "        [ 0.04130504, -0.22712985, -0.19511443, -0.8284035 ,\n",
       "         -0.44059953]]], dtype=float32)"
      ]
     },
     "execution_count": 36,
     "metadata": {},
     "output_type": "execute_result"
    }
   ],
   "source": [
    "outputs_val"
   ]
  },
  {
   "cell_type": "code",
   "execution_count": null,
   "metadata": {},
   "outputs": [],
   "source": []
  },
  {
   "cell_type": "code",
   "execution_count": null,
   "metadata": {},
   "outputs": [],
   "source": []
  },
  {
   "cell_type": "code",
   "execution_count": null,
   "metadata": {},
   "outputs": [],
   "source": []
  },
  {
   "cell_type": "code",
   "execution_count": null,
   "metadata": {},
   "outputs": [],
   "source": []
  },
  {
   "cell_type": "code",
   "execution_count": 37,
   "metadata": {},
   "outputs": [
    {
     "data": {
      "text/plain": [
       "<tensorflow.python.framework.ops.Graph at 0x2745ef85d30>"
      ]
     },
     "execution_count": 37,
     "metadata": {},
     "output_type": "execute_result"
    }
   ],
   "source": [
    "sess.graph"
   ]
  },
  {
   "cell_type": "code",
   "execution_count": 38,
   "metadata": {},
   "outputs": [
    {
     "data": {
      "text/plain": [
       "<tensorflow.python.framework.ops.Graph at 0x2745ef85d30>"
      ]
     },
     "execution_count": 38,
     "metadata": {},
     "output_type": "execute_result"
    }
   ],
   "source": [
    "tf.get_default_graph()"
   ]
  },
  {
   "cell_type": "code",
   "execution_count": 39,
   "metadata": {},
   "outputs": [
    {
     "name": "stdout",
     "output_type": "stream",
     "text": [
      "Placeholder\n",
      "transpose/perm\n",
      "transpose\n",
      "unstack\n",
      "rnn/Shape\n",
      "rnn/strided_slice/stack\n",
      "rnn/strided_slice/stack_1\n",
      "rnn/strided_slice/stack_2\n",
      "rnn/strided_slice\n",
      "rnn/BasicRNNCellZeroState/ExpandDims/dim\n",
      "rnn/BasicRNNCellZeroState/ExpandDims\n",
      "rnn/BasicRNNCellZeroState/Const\n",
      "rnn/BasicRNNCellZeroState/concat/axis\n",
      "rnn/BasicRNNCellZeroState/concat\n",
      "rnn/BasicRNNCellZeroState/zeros/Const\n",
      "rnn/BasicRNNCellZeroState/zeros\n",
      "rnn/BasicRNNCellZeroState/ExpandDims_1/dim\n",
      "rnn/BasicRNNCellZeroState/ExpandDims_1\n",
      "rnn/BasicRNNCellZeroState/Const_1\n",
      "rnn/basic_rnn_cell/kernel/Initializer/random_uniform/shape\n",
      "rnn/basic_rnn_cell/kernel/Initializer/random_uniform/min\n",
      "rnn/basic_rnn_cell/kernel/Initializer/random_uniform/max\n",
      "rnn/basic_rnn_cell/kernel/Initializer/random_uniform/RandomUniform\n",
      "rnn/basic_rnn_cell/kernel/Initializer/random_uniform/sub\n",
      "rnn/basic_rnn_cell/kernel/Initializer/random_uniform/mul\n",
      "rnn/basic_rnn_cell/kernel/Initializer/random_uniform\n",
      "rnn/basic_rnn_cell/kernel\n",
      "rnn/basic_rnn_cell/kernel/Assign\n",
      "rnn/basic_rnn_cell/kernel/read\n",
      "rnn/basic_rnn_cell/bias/Initializer/zeros\n",
      "rnn/basic_rnn_cell/bias\n",
      "rnn/basic_rnn_cell/bias/Assign\n",
      "rnn/basic_rnn_cell/bias/read\n",
      "rnn/basic_rnn_cell/concat/axis\n",
      "rnn/basic_rnn_cell/concat\n",
      "rnn/basic_rnn_cell/MatMul\n",
      "rnn/basic_rnn_cell/BiasAdd\n",
      "rnn/basic_rnn_cell/Tanh\n",
      "rnn/basic_rnn_cell/concat_1/axis\n",
      "rnn/basic_rnn_cell/concat_1\n",
      "rnn/basic_rnn_cell/MatMul_1\n",
      "rnn/basic_rnn_cell/BiasAdd_1\n",
      "rnn/basic_rnn_cell/Tanh_1\n",
      "stack\n",
      "transpose_1/perm\n",
      "transpose_1\n",
      "init\n"
     ]
    }
   ],
   "source": [
    "for tensor in tf.get_default_graph().get_operations():\n",
    "    print (tensor.name)"
   ]
  },
  {
   "cell_type": "code",
   "execution_count": 40,
   "metadata": {},
   "outputs": [],
   "source": [
    "g1=tf.Graph()\n",
    "\n",
    "with g1.as_default():\n",
    "    param_x=tf.placeholder(dtype=tf.float32,name='x')\n",
    "    param_y=tf.placeholder(dtype=tf.float32,name='y')\n",
    "    op_x_plus_y=tf.add(param_x,param_y,name='x_plus_y')"
   ]
  },
  {
   "cell_type": "code",
   "execution_count": 41,
   "metadata": {},
   "outputs": [
    {
     "data": {
      "text/plain": [
       "[<tf.Operation 'x' type=Placeholder>,\n",
       " <tf.Operation 'y' type=Placeholder>,\n",
       " <tf.Operation 'x_plus_y' type=Add>]"
      ]
     },
     "execution_count": 41,
     "metadata": {},
     "output_type": "execute_result"
    }
   ],
   "source": [
    "g1.get_operations()"
   ]
  },
  {
   "cell_type": "code",
   "execution_count": 42,
   "metadata": {},
   "outputs": [
    {
     "data": {
      "text/plain": [
       "[<tf.Operation 'Placeholder' type=Placeholder>,\n",
       " <tf.Operation 'transpose/perm' type=Const>,\n",
       " <tf.Operation 'transpose' type=Transpose>,\n",
       " <tf.Operation 'unstack' type=Unpack>,\n",
       " <tf.Operation 'rnn/Shape' type=Shape>,\n",
       " <tf.Operation 'rnn/strided_slice/stack' type=Const>,\n",
       " <tf.Operation 'rnn/strided_slice/stack_1' type=Const>,\n",
       " <tf.Operation 'rnn/strided_slice/stack_2' type=Const>,\n",
       " <tf.Operation 'rnn/strided_slice' type=StridedSlice>,\n",
       " <tf.Operation 'rnn/BasicRNNCellZeroState/ExpandDims/dim' type=Const>,\n",
       " <tf.Operation 'rnn/BasicRNNCellZeroState/ExpandDims' type=ExpandDims>,\n",
       " <tf.Operation 'rnn/BasicRNNCellZeroState/Const' type=Const>,\n",
       " <tf.Operation 'rnn/BasicRNNCellZeroState/concat/axis' type=Const>,\n",
       " <tf.Operation 'rnn/BasicRNNCellZeroState/concat' type=ConcatV2>,\n",
       " <tf.Operation 'rnn/BasicRNNCellZeroState/zeros/Const' type=Const>,\n",
       " <tf.Operation 'rnn/BasicRNNCellZeroState/zeros' type=Fill>,\n",
       " <tf.Operation 'rnn/BasicRNNCellZeroState/ExpandDims_1/dim' type=Const>,\n",
       " <tf.Operation 'rnn/BasicRNNCellZeroState/ExpandDims_1' type=ExpandDims>,\n",
       " <tf.Operation 'rnn/BasicRNNCellZeroState/Const_1' type=Const>,\n",
       " <tf.Operation 'rnn/basic_rnn_cell/kernel/Initializer/random_uniform/shape' type=Const>,\n",
       " <tf.Operation 'rnn/basic_rnn_cell/kernel/Initializer/random_uniform/min' type=Const>,\n",
       " <tf.Operation 'rnn/basic_rnn_cell/kernel/Initializer/random_uniform/max' type=Const>,\n",
       " <tf.Operation 'rnn/basic_rnn_cell/kernel/Initializer/random_uniform/RandomUniform' type=RandomUniform>,\n",
       " <tf.Operation 'rnn/basic_rnn_cell/kernel/Initializer/random_uniform/sub' type=Sub>,\n",
       " <tf.Operation 'rnn/basic_rnn_cell/kernel/Initializer/random_uniform/mul' type=Mul>,\n",
       " <tf.Operation 'rnn/basic_rnn_cell/kernel/Initializer/random_uniform' type=Add>,\n",
       " <tf.Operation 'rnn/basic_rnn_cell/kernel' type=VariableV2>,\n",
       " <tf.Operation 'rnn/basic_rnn_cell/kernel/Assign' type=Assign>,\n",
       " <tf.Operation 'rnn/basic_rnn_cell/kernel/read' type=Identity>,\n",
       " <tf.Operation 'rnn/basic_rnn_cell/bias/Initializer/zeros' type=Const>,\n",
       " <tf.Operation 'rnn/basic_rnn_cell/bias' type=VariableV2>,\n",
       " <tf.Operation 'rnn/basic_rnn_cell/bias/Assign' type=Assign>,\n",
       " <tf.Operation 'rnn/basic_rnn_cell/bias/read' type=Identity>,\n",
       " <tf.Operation 'rnn/basic_rnn_cell/concat/axis' type=Const>,\n",
       " <tf.Operation 'rnn/basic_rnn_cell/concat' type=ConcatV2>,\n",
       " <tf.Operation 'rnn/basic_rnn_cell/MatMul' type=MatMul>,\n",
       " <tf.Operation 'rnn/basic_rnn_cell/BiasAdd' type=BiasAdd>,\n",
       " <tf.Operation 'rnn/basic_rnn_cell/Tanh' type=Tanh>,\n",
       " <tf.Operation 'rnn/basic_rnn_cell/concat_1/axis' type=Const>,\n",
       " <tf.Operation 'rnn/basic_rnn_cell/concat_1' type=ConcatV2>,\n",
       " <tf.Operation 'rnn/basic_rnn_cell/MatMul_1' type=MatMul>,\n",
       " <tf.Operation 'rnn/basic_rnn_cell/BiasAdd_1' type=BiasAdd>,\n",
       " <tf.Operation 'rnn/basic_rnn_cell/Tanh_1' type=Tanh>,\n",
       " <tf.Operation 'stack' type=Pack>,\n",
       " <tf.Operation 'transpose_1/perm' type=Const>,\n",
       " <tf.Operation 'transpose_1' type=Transpose>,\n",
       " <tf.Operation 'init' type=NoOp>]"
      ]
     },
     "execution_count": 42,
     "metadata": {},
     "output_type": "execute_result"
    }
   ],
   "source": [
    "tf.get_default_graph().get_operations()"
   ]
  },
  {
   "cell_type": "code",
   "execution_count": 43,
   "metadata": {},
   "outputs": [],
   "source": [
    "with tf.Session(graph=g1) as sess:\n",
    "    result=sess.run(op_x_plus_y,feed_dict={param_x:20,param_y:1.9})"
   ]
  },
  {
   "cell_type": "code",
   "execution_count": 44,
   "metadata": {},
   "outputs": [
    {
     "data": {
      "text/plain": [
       "21.9"
      ]
     },
     "execution_count": 44,
     "metadata": {},
     "output_type": "execute_result"
    }
   ],
   "source": [
    "result"
   ]
  },
  {
   "cell_type": "markdown",
   "metadata": {},
   "source": [
    "<h5>If you just want to evaluate a single operation, then instead</h5>"
   ]
  },
  {
   "cell_type": "code",
   "execution_count": 38,
   "metadata": {},
   "outputs": [],
   "source": [
    "with tf.Session(graph=g1) as sess:\n",
    "    op_x_plus_y.eval(feed_dict={param_x:20,param_y:1.9},session=sess)"
   ]
  },
  {
   "cell_type": "code",
   "execution_count": 39,
   "metadata": {},
   "outputs": [
    {
     "data": {
      "text/plain": [
       "<tf.Tensor 'x_plus_y:0' shape=<unknown> dtype=float32>"
      ]
     },
     "execution_count": 39,
     "metadata": {},
     "output_type": "execute_result"
    }
   ],
   "source": [
    "op_x_plus_y"
   ]
  },
  {
   "cell_type": "markdown",
   "metadata": {},
   "source": [
    "<h5>The last argument can be skipped if you precede it with the following line of code using InteractiveSession()</h5>"
   ]
  },
  {
   "cell_type": "code",
   "execution_count": 40,
   "metadata": {},
   "outputs": [
    {
     "data": {
      "text/plain": [
       "<tensorflow.python.client.session.InteractiveSession at 0x261fb1c00b8>"
      ]
     },
     "execution_count": 40,
     "metadata": {},
     "output_type": "execute_result"
    }
   ],
   "source": [
    "tf.InteractiveSession(graph=g1)"
   ]
  },
  {
   "cell_type": "code",
   "execution_count": 42,
   "metadata": {},
   "outputs": [
    {
     "data": {
      "text/plain": [
       "21.9"
      ]
     },
     "execution_count": 42,
     "metadata": {},
     "output_type": "execute_result"
    }
   ],
   "source": [
    "op_x_plus_y.eval(feed_dict={param_x:20,param_y:1.9})"
   ]
  },
  {
   "cell_type": "code",
   "execution_count": 44,
   "metadata": {},
   "outputs": [
    {
     "name": "stderr",
     "output_type": "stream",
     "text": [
      "C:\\Users\\anjineyulu\\AppData\\Local\\Continuum\\anaconda3\\lib\\site-packages\\tensorflow\\python\\client\\session.py:1702: UserWarning: An interactive session is already active. This can cause out-of-memory errors in some cases. You must explicitly call `InteractiveSession.close()` to release resources held by the other session(s).\n",
      "  warnings.warn('An interactive session is already active. This can '\n"
     ]
    },
    {
     "data": {
      "text/plain": [
       "21.1"
      ]
     },
     "execution_count": 44,
     "metadata": {},
     "output_type": "execute_result"
    }
   ],
   "source": [
    "tf.InteractiveSession()\n",
    "x=tf.constant(20.0)\n",
    "y=tf.constant(1.1)\n",
    "(x+y).eval()"
   ]
  },
  {
   "cell_type": "code",
   "execution_count": 45,
   "metadata": {},
   "outputs": [
    {
     "data": {
      "text/plain": [
       "21.1"
      ]
     },
     "execution_count": 45,
     "metadata": {},
     "output_type": "execute_result"
    }
   ],
   "source": [
    "(x+1.1).eval()"
   ]
  },
  {
   "cell_type": "markdown",
   "metadata": {},
   "source": [
    "As a procedural system TensorFlow also has mutable state which can be declared by tf.Variable()"
   ]
  },
  {
   "cell_type": "markdown",
   "metadata": {},
   "source": [
    "n addition to placeholders and variables there are constants, defined by tf.constant()."
   ]
  },
  {
   "cell_type": "code",
   "execution_count": 48,
   "metadata": {},
   "outputs": [],
   "source": [
    "graph=tf.Graph()\n",
    "with graph.as_default():\n",
    "    x=tf.Variable(tf.random_normal(shape=[]))"
   ]
  },
  {
   "cell_type": "code",
   "execution_count": 49,
   "metadata": {},
   "outputs": [
    {
     "data": {
      "text/plain": [
       "[<tf.Operation 'random_normal/shape' type=Const>,\n",
       " <tf.Operation 'random_normal/mean' type=Const>,\n",
       " <tf.Operation 'random_normal/stddev' type=Const>,\n",
       " <tf.Operation 'random_normal/RandomStandardNormal' type=RandomStandardNormal>,\n",
       " <tf.Operation 'random_normal/mul' type=Mul>,\n",
       " <tf.Operation 'random_normal' type=Add>,\n",
       " <tf.Operation 'Variable' type=VariableV2>,\n",
       " <tf.Operation 'Variable/Assign' type=Assign>,\n",
       " <tf.Operation 'Variable/read' type=Identity>]"
      ]
     },
     "execution_count": 49,
     "metadata": {},
     "output_type": "execute_result"
    }
   ],
   "source": [
    "graph.get_operations()"
   ]
  },
  {
   "cell_type": "code",
   "execution_count": 50,
   "metadata": {},
   "outputs": [
    {
     "name": "stdout",
     "output_type": "stream",
     "text": [
      "0.43893775\n"
     ]
    }
   ],
   "source": [
    "with tf.Session(graph=graph) as sess:\n",
    "    sess.run(tf.global_variables_initializer())\n",
    "    print(sess.run(x))"
   ]
  },
  {
   "cell_type": "code",
   "execution_count": 51,
   "metadata": {},
   "outputs": [
    {
     "data": {
      "text/plain": [
       "tf.float32_ref"
      ]
     },
     "execution_count": 51,
     "metadata": {},
     "output_type": "execute_result"
    }
   ],
   "source": [
    "x.dtype"
   ]
  },
  {
   "cell_type": "code",
   "execution_count": 72,
   "metadata": {},
   "outputs": [],
   "source": [
    "graph=tf.Graph()\n",
    "with graph.as_default():\n",
    "    x=tf.Variable(tf.zeros(dtype=tf.float32,shape=[]),trainable=True)\n",
    "    c=tf.placeholder(dtype=tf.float32)\n",
    "    f=(x-c)**2"
   ]
  },
  {
   "cell_type": "code",
   "execution_count": 73,
   "metadata": {},
   "outputs": [
    {
     "data": {
      "text/plain": [
       "[<tf.Operation 'zeros' type=Const>,\n",
       " <tf.Operation 'Variable' type=VariableV2>,\n",
       " <tf.Operation 'Variable/Assign' type=Assign>,\n",
       " <tf.Operation 'Variable/read' type=Identity>,\n",
       " <tf.Operation 'Placeholder' type=Placeholder>,\n",
       " <tf.Operation 'sub' type=Sub>,\n",
       " <tf.Operation 'pow/y' type=Const>,\n",
       " <tf.Operation 'pow' type=Pow>]"
      ]
     },
     "execution_count": 73,
     "metadata": {},
     "output_type": "execute_result"
    }
   ],
   "source": [
    "graph.get_operations()"
   ]
  },
  {
   "cell_type": "code",
   "execution_count": 74,
   "metadata": {},
   "outputs": [
    {
     "name": "stdout",
     "output_type": "stream",
     "text": [
      "x=0.0\n",
      "f(x)=12.25\n"
     ]
    }
   ],
   "source": [
    "with tf.Session(graph=graph) as sess:\n",
    "    sess.run(tf.global_variables_initializer())\n",
    "    print(\"x={}\".format(sess.run(x)))\n",
    "    print(\"f(x)={}\".format(sess.run(f,feed_dict={c:3.5})))"
   ]
  },
  {
   "cell_type": "code",
   "execution_count": 75,
   "metadata": {},
   "outputs": [],
   "source": [
    "optim=tf.train.GradientDescentOptimizer(learning_rate=0.01)"
   ]
  },
  {
   "cell_type": "code",
   "execution_count": 76,
   "metadata": {},
   "outputs": [
    {
     "data": {
      "text/plain": [
       "[(<tf.Tensor 'gradients/sub_grad/tuple/control_dependency:0' shape=() dtype=float32>,\n",
       "  <tf.Variable 'Variable:0' shape=() dtype=float32_ref>)]"
      ]
     },
     "execution_count": 76,
     "metadata": {},
     "output_type": "execute_result"
    }
   ],
   "source": [
    "with graph.as_default():\n",
    "    grads_and_vars=optim.compute_gradients(f)\n",
    "grads_and_vars"
   ]
  },
  {
   "cell_type": "code",
   "execution_count": 77,
   "metadata": {},
   "outputs": [
    {
     "name": "stdout",
     "output_type": "stream",
     "text": [
      "1\n",
      "2\n"
     ]
    }
   ],
   "source": [
    "with graph.as_default():\n",
    "    dfdx=grads_and_vars[0][0]\n",
    "    print(len(grads_and_vars))\n",
    "    print(len(grads_and_vars[0]))"
   ]
  },
  {
   "cell_type": "code",
   "execution_count": 78,
   "metadata": {},
   "outputs": [
    {
     "data": {
      "text/plain": [
       "<tf.Tensor 'gradients/sub_grad/tuple/control_dependency:0' shape=() dtype=float32>"
      ]
     },
     "execution_count": 78,
     "metadata": {},
     "output_type": "execute_result"
    }
   ],
   "source": [
    "dfdx"
   ]
  },
  {
   "cell_type": "code",
   "execution_count": 80,
   "metadata": {},
   "outputs": [
    {
     "name": "stdout",
     "output_type": "stream",
     "text": [
      "df/dx =-7.0\n"
     ]
    }
   ],
   "source": [
    "with tf.Session(graph=graph) as sess:\n",
    "    sess.run(tf.global_variables_initializer())\n",
    "    dfdx_0=sess.run(dfdx,feed_dict={c:3.5})\n",
    "    print(\"df/dx ={}\".format(dfdx_0))"
   ]
  },
  {
   "cell_type": "code",
   "execution_count": 81,
   "metadata": {},
   "outputs": [],
   "source": [
    "with graph.as_default():\n",
    "    train_step=optim.apply_gradients(grads_and_vars)"
   ]
  },
  {
   "cell_type": "code",
   "execution_count": 86,
   "metadata": {},
   "outputs": [
    {
     "name": "stdout",
     "output_type": "stream",
     "text": [
      "x = 0.07000000029802322\n"
     ]
    }
   ],
   "source": [
    "with tf.Session(graph=graph) as sess:\n",
    "    sess.run(tf.global_variables_initializer())\n",
    "    dfdx_0=sess.run(train_step,feed_dict={c:3.5})\n",
    "    print(\"x = {}\".format(sess.run(x)))"
   ]
  },
  {
   "cell_type": "code",
   "execution_count": 87,
   "metadata": {},
   "outputs": [],
   "source": [
    "with graph.as_default():\n",
    "    train_step=tf.train.GradientDescentOptimizer(0.025).minimize(f)"
   ]
  },
  {
   "cell_type": "code",
   "execution_count": 88,
   "metadata": {},
   "outputs": [
    {
     "name": "stdout",
     "output_type": "stream",
     "text": [
      "3.4792776\n"
     ]
    }
   ],
   "source": [
    "with tf.Session(graph=graph) as sess:\n",
    "    sess.run(tf.global_variables_initializer())\n",
    "    for i in range(100):\n",
    "        sess.run(train_step,feed_dict={c:3.5})\n",
    "    print(sess.run(x))"
   ]
  },
  {
   "cell_type": "code",
   "execution_count": null,
   "metadata": {},
   "outputs": [],
   "source": []
  }
 ],
 "metadata": {
  "kernelspec": {
   "display_name": "Python 3",
   "language": "python",
   "name": "python3"
  },
  "language_info": {
   "codemirror_mode": {
    "name": "ipython",
    "version": 3
   },
   "file_extension": ".py",
   "mimetype": "text/x-python",
   "name": "python",
   "nbconvert_exporter": "python",
   "pygments_lexer": "ipython3",
   "version": "3.6.5"
  }
 },
 "nbformat": 4,
 "nbformat_minor": 2
}
